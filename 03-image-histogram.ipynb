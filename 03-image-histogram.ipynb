{
 "cells": [
  {
   "cell_type": "markdown",
   "metadata": {},
   "source": [
    "# Checking Image Histogram"
   ]
  },
  {
   "cell_type": "code",
   "execution_count": null,
   "metadata": {},
   "outputs": [],
   "source": [
    "import numpy as np\n",
    "import cv2\n",
    "import matplotlib.pyplot as plt\n",
    "import matplotlib.image as mpimg\n",
    "import pandas as pd\n",
    "import seaborn as sns\n",
    "import os"
   ]
  },
  {
   "cell_type": "code",
   "execution_count": null,
   "metadata": {},
   "outputs": [],
   "source": [
    "folder = './test_images'\n",
    "test_images = [fn_img for fn_img in os.listdir(folder) if fn_img.startswith('test_img_')]"
   ]
  },
  {
   "cell_type": "code",
   "execution_count": null,
   "metadata": {},
   "outputs": [],
   "source": [
    "hist_rgb_sum = np.zeros((256,256,256))\n",
    "hist_hsv_sum = np.zeros((256,256,256))\n",
    "\n",
    "for fn_test in test_images:\n",
    "    fn_test_full = '{0}/{1}'.format(folder, fn_test)\n",
    "    fn_mask_full = '{0}/mask_{1}'.format(folder, fn_test)\n",
    "    img = cv2.cvtColor(cv2.imread(fn_test_full),cv2.COLOR_BGR2RGB)\n",
    "    img_hsv = cv2.cvtColor(img, cv2.COLOR_RGB2HLS)\n",
    "    img_mask = cv2.cvtColor(cv2.imread(fn_mask_full), cv2.COLOR_BGR2GRAY)\n",
    "    hist_rgb = cv2.calcHist([img],\n",
    "            [0,1,2],\n",
    "            img_mask, \n",
    "            [256] * 3,\n",
    "            [0,256] * 3)\n",
    "    hist_hsv = cv2.calcHist([img_hsv],\n",
    "            [0,1,2],\n",
    "            img_mask, \n",
    "            [256] * 3,\n",
    "            [0,256] * 3)\n",
    "    hist_rgb_sum += hist_rgb\n",
    "    hist_hsv_sum += hist_hsv"
   ]
  },
  {
   "cell_type": "markdown",
   "metadata": {},
   "source": [
    "# RGB Histogram"
   ]
  },
  {
   "cell_type": "code",
   "execution_count": null,
   "metadata": {},
   "outputs": [],
   "source": [
    "rgb_sum_nonzero = np.nonzero(hist_rgb_sum)\n",
    "\n",
    "list_rgb = []\n",
    "\n",
    "for h, s, v in zip(rgb_sum_nonzero[0], rgb_sum_nonzero[1], rgb_sum_nonzero[2]):\n",
    "    list_rgb.append([h,s,v,hist_rgb_sum[h,s,v]])\n",
    "\n",
    "np_list_hist_rgb = np.array(list_rgb)"
   ]
  },
  {
   "cell_type": "code",
   "execution_count": null,
   "metadata": {},
   "outputs": [],
   "source": [
    "df_rgb_sum = pd.DataFrame(np_list_hist_rgb,\n",
    "                          columns=['R','G','B','cnt']).astype(np.uint8)"
   ]
  },
  {
   "cell_type": "code",
   "execution_count": null,
   "metadata": {},
   "outputs": [],
   "source": [
    "fig,axes=plt.subplots(1,3, figsize=(18,10))\n",
    "cbar_set = dict(orientation=\"horizontal\")\n",
    "sns.histplot(ax=axes[0],\n",
    "             data=df_rgb_sum, \n",
    "             x=\"R\", y=\"G\", \n",
    "             bins=50, pthresh=.1, cmap=\"viridis\",cbar=True,\n",
    "             cbar_kws = cbar_set)\n",
    "sns.histplot(ax=axes[1],\n",
    "             data=df_rgb_sum, \n",
    "             x=\"G\", y=\"B\", \n",
    "             bins=50, pthresh=.1, cmap=\"viridis\",cbar=True,\n",
    "             cbar_kws = cbar_set)\n",
    "sns.histplot(ax=axes[2],\n",
    "             data=df_rgb_sum, \n",
    "             x=\"R\", y=\"B\", \n",
    "             bins=50, pthresh=.1, cmap=\"viridis\",cbar=True,\n",
    "             cbar_kws = cbar_set)\n",
    "fig.tight_layout()"
   ]
  },
  {
   "cell_type": "markdown",
   "metadata": {},
   "source": [
    "# Create Threshold Filter with Given Histogram"
   ]
  },
  {
   "cell_type": "code",
   "execution_count": null,
   "metadata": {},
   "outputs": [],
   "source": [
    "arr_RG = axes[0].get_children()[0].get_array()\n",
    "np_arr_RG = np.reshape(arr_RG.data,(50,50))\n",
    "\n",
    "arr_GB = axes[1].get_children()[0].get_array()\n",
    "np_arr_GB = np.reshape(arr_GB.data,(50,50))\n",
    "\n",
    "arr_RB = axes[1].get_children()[0].get_array()\n",
    "np_arr_BR = np.reshape(arr_RB.data,(50,50))"
   ]
  },
  {
   "cell_type": "code",
   "execution_count": null,
   "metadata": {},
   "outputs": [],
   "source": [
    "plt.imshow(np_arr_RG)"
   ]
  },
  {
   "cell_type": "code",
   "execution_count": null,
   "metadata": {},
   "outputs": [],
   "source": [
    "list_arr_RG = []\n",
    "thres = 5\n",
    "for i in range(0,50):\n",
    "    nonzeros = np.where(np_arr_RG[:,i] > thres)[0]\n",
    "    if(len(nonzeros)>0):\n",
    "        try:\n",
    "            minval = (np.min(nonzeros) + 1) * 5\n",
    "            maxval = (np.max(nonzeros) + 1) * 5 + 5\n",
    "        except:\n",
    "            print(nonzeros)\n",
    "    else:\n",
    "        minval = -1\n",
    "        maxval = -1\n",
    "    list_arr_RG.append([i*5, (i+1)*5, minval, maxval])"
   ]
  },
  {
   "cell_type": "code",
   "execution_count": null,
   "metadata": {},
   "outputs": [],
   "source": [
    "list_arr_RG"
   ]
  },
  {
   "cell_type": "markdown",
   "metadata": {},
   "source": [
    "# HSV Histogram"
   ]
  },
  {
   "cell_type": "code",
   "execution_count": null,
   "metadata": {},
   "outputs": [],
   "source": [
    "hsv_sum_nonzero = np.nonzero(hist_hsv_sum)\n",
    "\n",
    "list_hsv = []\n",
    "\n",
    "for h, s, v in zip(hsv_sum_nonzero[0], hsv_sum_nonzero[1], hsv_sum_nonzero[2]):\n",
    "    list_hsv.append([h,s,v,hist_hsv_sum[h,s,v]])\n",
    "\n",
    "np_list_hist_hsv = np.array(list_hsv)"
   ]
  },
  {
   "cell_type": "code",
   "execution_count": null,
   "metadata": {},
   "outputs": [],
   "source": [
    "df_hsv_sum = pd.DataFrame(np_list_hist_hsv,\n",
    "                          columns=['H','S','V','cnt']).astype(np.uint8)"
   ]
  },
  {
   "cell_type": "code",
   "execution_count": null,
   "metadata": {},
   "outputs": [],
   "source": [
    "fig,axes=plt.subplots(1,3, figsize=(18,10))\n",
    "cbar_set = dict(orientation=\"horizontal\")\n",
    "sns.histplot(ax=axes[0],\n",
    "             data=df_hsv_sum, \n",
    "             x=\"H\", y=\"S\", \n",
    "             bins=50, pthresh=.1, cmap=\"viridis\",cbar=True,\n",
    "             cbar_kws = cbar_set)\n",
    "sns.histplot(ax=axes[1],\n",
    "             data=df_hsv_sum, \n",
    "             x=\"S\", y=\"V\", \n",
    "             bins=50, pthresh=.1, cmap=\"viridis\",cbar=True,\n",
    "             cbar_kws = cbar_set)\n",
    "sns.histplot(ax=axes[2],\n",
    "             data=df_hsv_sum, \n",
    "             x=\"H\", y=\"V\", \n",
    "             bins=50, pthresh=.1, cmap=\"viridis\",cbar=True,\n",
    "             cbar_kws = cbar_set)\n",
    "fig.tight_layout()"
   ]
  }
 ],
 "metadata": {
  "kernelspec": {
   "display_name": "Python 3",
   "language": "python",
   "name": "python3"
  },
  "language_info": {
   "codemirror_mode": {
    "name": "ipython",
    "version": 3
   },
   "file_extension": ".py",
   "mimetype": "text/x-python",
   "name": "python",
   "nbconvert_exporter": "python",
   "pygments_lexer": "ipython3",
   "version": "3.6.3"
  }
 },
 "nbformat": 4,
 "nbformat_minor": 4
}
